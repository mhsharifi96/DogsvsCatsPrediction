{
 "cells": [
  {
   "cell_type": "code",
   "execution_count": 1,
   "id": "f6e2154e",
   "metadata": {},
   "outputs": [],
   "source": [
    "import os , shutil"
   ]
  },
  {
   "cell_type": "code",
   "execution_count": 11,
   "id": "5d41452d",
   "metadata": {},
   "outputs": [],
   "source": [
    "# The path to the directory where the original\n",
    "# dataset was uncompressed\n",
    "original_dataset_dir = r'C:\\Users\\MHS\\Documents\\AI\\my-code\\dataset\\train'\n",
    "\n",
    "# The directory where we will\n",
    "# store our smaller dataset\n",
    "base_dir = r'C:\\Users\\MHS\\Documents\\AI\\my-code\\dataset\\CatVsDog'\n",
    "os.mkdir(base_dir)\n",
    "\n",
    "# Directories for our training,\n",
    "# validation and test splits\n",
    "train_dir = os.path.join(base_dir, 'train')\n",
    "os.mkdir(train_dir)\n",
    "validation_dir = os.path.join(base_dir, 'validation')\n",
    "os.mkdir(validation_dir)\n",
    "test_dir = os.path.join(base_dir, 'test')\n",
    "os.mkdir(test_dir)\n",
    "\n",
    "# Directory with our training cat pictures\n",
    "train_cats_dir = os.path.join(train_dir, 'cats')\n",
    "os.mkdir(train_cats_dir)\n",
    "\n",
    "# Directory with our training dog pictures\n",
    "train_dogs_dir = os.path.join(train_dir, 'dogs')\n",
    "os.mkdir(train_dogs_dir)\n",
    "\n",
    "# Directory with our validation cat pictures\n",
    "validation_cats_dir = os.path.join(validation_dir, 'cats')\n",
    "os.mkdir(validation_cats_dir)\n",
    "\n",
    "# Directory with our validation dog pictures\n",
    "validation_dogs_dir = os.path.join(validation_dir, 'dogs')\n",
    "os.mkdir(validation_dogs_dir)\n",
    "\n",
    "# Directory with our validation cat pictures\n",
    "test_cats_dir = os.path.join(test_dir, 'cats')\n",
    "os.mkdir(test_cats_dir)\n",
    "\n",
    "# Directory with our validation dog pictures\n",
    "test_dogs_dir = os.path.join(test_dir, 'dogs')\n",
    "os.mkdir(test_dogs_dir)\n",
    "\n",
    "# Copy first 1000 cat images to train_cats_dir\n",
    "fnames = ['cat.{}.jpg'.format(i) for i in range(1000)]\n",
    "for fname in fnames:\n",
    "    src = os.path.join(original_dataset_dir, fname)\n",
    "    dst = os.path.join(train_cats_dir, fname)\n",
    "    shutil.copyfile(src, dst)\n",
    "\n",
    "# Copy next 500 cat images to validation_cats_dir\n",
    "fnames = ['cat.{}.jpg'.format(i) for i in range(1000, 1500)]\n",
    "for fname in fnames:\n",
    "    src = os.path.join(original_dataset_dir, fname)\n",
    "    dst = os.path.join(validation_cats_dir, fname)\n",
    "    shutil.copyfile(src, dst)\n",
    "    \n",
    "# Copy next 500 cat images to test_cats_dir\n",
    "fnames = ['cat.{}.jpg'.format(i) for i in range(1500, 2000)]\n",
    "for fname in fnames:\n",
    "    src = os.path.join(original_dataset_dir, fname)\n",
    "    dst = os.path.join(test_cats_dir, fname)\n",
    "    shutil.copyfile(src, dst)\n",
    "    \n",
    "# Copy first 1000 dog images to train_dogs_dir\n",
    "fnames = ['dog.{}.jpg'.format(i) for i in range(1000)]\n",
    "for fname in fnames:\n",
    "    src = os.path.join(original_dataset_dir, fname)\n",
    "    dst = os.path.join(train_dogs_dir, fname)\n",
    "    shutil.copyfile(src, dst)\n",
    "    \n",
    "# Copy next 500 dog images to validation_dogs_dir\n",
    "fnames = ['dog.{}.jpg'.format(i) for i in range(1000, 1500)]\n",
    "for fname in fnames:\n",
    "    src = os.path.join(original_dataset_dir, fname)\n",
    "    dst = os.path.join(validation_dogs_dir, fname)\n",
    "    shutil.copyfile(src, dst)\n",
    "    \n",
    "# Copy next 500 dog images to test_dogs_dir\n",
    "fnames = ['dog.{}.jpg'.format(i) for i in range(1500, 2000)]\n",
    "for fname in fnames:\n",
    "    src = os.path.join(original_dataset_dir, fname)\n",
    "    dst = os.path.join(test_dogs_dir, fname)\n",
    "    shutil.copyfile(src, dst)"
   ]
  },
  {
   "cell_type": "code",
   "execution_count": 12,
   "id": "51e41b7b",
   "metadata": {},
   "outputs": [
    {
     "data": {
      "text/plain": [
       "'C:\\\\Users\\\\MHS\\\\Documents\\\\AI\\\\my-code\\\\dataset\\\\CatVsDog\\\\train\\\\cats'"
      ]
     },
     "execution_count": 12,
     "metadata": {},
     "output_type": "execute_result"
    }
   ],
   "source": [
    "train_cats_dir"
   ]
  },
  {
   "cell_type": "code",
   "execution_count": 17,
   "id": "4f514815",
   "metadata": {},
   "outputs": [
    {
     "name": "stdout",
     "output_type": "stream",
     "text": [
      "total training cat images: 1000\n",
      "total training dog images: 1000\n"
     ]
    }
   ],
   "source": [
    "print('total training cat images:', len(os.listdir(train_cats_dir)))\n",
    "print('total training dog images:', len(os.listdir(train_dogs_dir)))"
   ]
  },
  {
   "cell_type": "code",
   "execution_count": 15,
   "id": "54e89168",
   "metadata": {},
   "outputs": [
    {
     "name": "stdout",
     "output_type": "stream",
     "text": [
      "total validation cat images: 500\n",
      "total validation dog images: 500\n"
     ]
    }
   ],
   "source": [
    "print('total validation cat images:', len(os.listdir(validation_cats_dir)))\n",
    "print('total validation dog images:', len(os.listdir(validation_dogs_dir)))"
   ]
  },
  {
   "cell_type": "code",
   "execution_count": 16,
   "id": "a9130ec2",
   "metadata": {},
   "outputs": [
    {
     "name": "stdout",
     "output_type": "stream",
     "text": [
      "total test cat images: 500\n",
      "total test cat images: 500\n"
     ]
    }
   ],
   "source": [
    "print('total test cat images:', len(os.listdir(test_cats_dir)))\n",
    "print('total test cat images:', len(os.listdir(test_dogs_dir)))"
   ]
  },
  {
   "cell_type": "markdown",
   "id": "81ab485e",
   "metadata": {},
   "source": [
    "## <div style=\"direction:rtl;text-align:right;font-family:B Lotus, B Nazanin, Tahoma\">تعریف معماری مدل (model architecture)</div>"
   ]
  },
  {
   "cell_type": "code",
   "execution_count": 30,
   "id": "2f2ab9f0",
   "metadata": {},
   "outputs": [],
   "source": [
    "from keras import layers\n",
    "from keras import models\n",
    "\n",
    "\n",
    "model = models.Sequential()\n",
    "model.add(layers.Conv2D(32,(3,3), activation='relu',input_shape=(150,150,3)))\n",
    "model.add(layers.MaxPooling2D((2,2)))\n",
    "model.add(layers.Conv2D(64,(3,3),activation='relu'))\n",
    "model.add(layers.MaxPooling2D((2,2)))\n",
    "model.add(layers.Conv2D(128,(3,3),activation='relu'))\n",
    "model.add(layers.MaxPooling2D((2,2)))\n",
    "model.add(layers.Conv2D(128,(3,3),activation='relu'))\n",
    "model.add(layers.MaxPooling2D((2,2)))\n",
    "model.add(layers.Flatten())\n",
    "model.add(layers.Dense(512,activation='relu'))\n",
    "model.add(layers.Dense(1,activation='sigmoid'))\n"
   ]
  },
  {
   "cell_type": "code",
   "execution_count": 31,
   "id": "1c3b5e71",
   "metadata": {},
   "outputs": [
    {
     "name": "stdout",
     "output_type": "stream",
     "text": [
      "Model: \"sequential_6\"\n",
      "_________________________________________________________________\n",
      " Layer (type)                Output Shape              Param #   \n",
      "=================================================================\n",
      " conv2d_20 (Conv2D)          (None, 148, 148, 32)      896       \n",
      "                                                                 \n",
      " max_pooling2d_19 (MaxPoolin  (None, 74, 74, 32)       0         \n",
      " g2D)                                                            \n",
      "                                                                 \n",
      " conv2d_21 (Conv2D)          (None, 72, 72, 64)        18496     \n",
      "                                                                 \n",
      " max_pooling2d_20 (MaxPoolin  (None, 36, 36, 64)       0         \n",
      " g2D)                                                            \n",
      "                                                                 \n",
      " conv2d_22 (Conv2D)          (None, 34, 34, 128)       73856     \n",
      "                                                                 \n",
      " max_pooling2d_21 (MaxPoolin  (None, 17, 17, 128)      0         \n",
      " g2D)                                                            \n",
      "                                                                 \n",
      " conv2d_23 (Conv2D)          (None, 15, 15, 128)       147584    \n",
      "                                                                 \n",
      " max_pooling2d_22 (MaxPoolin  (None, 7, 7, 128)        0         \n",
      " g2D)                                                            \n",
      "                                                                 \n",
      " flatten_5 (Flatten)         (None, 6272)              0         \n",
      "                                                                 \n",
      " dense_10 (Dense)            (None, 512)               3211776   \n",
      "                                                                 \n",
      " dense_11 (Dense)            (None, 1)                 513       \n",
      "                                                                 \n",
      "=================================================================\n",
      "Total params: 3,453,121\n",
      "Trainable params: 3,453,121\n",
      "Non-trainable params: 0\n",
      "_________________________________________________________________\n"
     ]
    }
   ],
   "source": [
    "model.summary()"
   ]
  },
  {
   "cell_type": "code",
   "execution_count": 34,
   "id": "ca25ce5c",
   "metadata": {},
   "outputs": [],
   "source": [
    "from keras import optimizers\n",
    "\n",
    "model.compile(loss='binary_crossentropy',\n",
    "              optimizer=optimizers.RMSprop(learning_rate=1e-4),\n",
    "              metrics=['acc'])"
   ]
  },
  {
   "cell_type": "markdown",
   "id": "910eebdd",
   "metadata": {},
   "source": [
    "## <div style=\"direction:rtl;text-align:right;font-family:B Lotus, B Nazanin, Tahoma\">  پیش پردازش داده (Data preprocessing)</div>\n"
   ]
  },
  {
   "cell_type": "code",
   "execution_count": 39,
   "id": "3d2551e9",
   "metadata": {},
   "outputs": [
    {
     "name": "stdout",
     "output_type": "stream",
     "text": [
      "Found 2000 images belonging to 2 classes.\n",
      "Found 1000 images belonging to 2 classes.\n"
     ]
    }
   ],
   "source": [
    "from keras.preprocessing.image import ImageDataGenerator\n",
    "\n",
    "# All images will be rescaled by 1./255\n",
    "train_datagen = ImageDataGenerator(rescale=1./255)\n",
    "test_datagen = ImageDataGenerator(rescale=1./255)\n",
    "\n",
    "train_generator = train_datagen.flow_from_directory(\n",
    "        # This is the target directory\n",
    "        train_dir,\n",
    "        # All images will be resized to 150x150\n",
    "        target_size=(150, 150),\n",
    "        batch_size=20,\n",
    "        # Since we use binary_crossentropy loss, we need binary labels\n",
    "        class_mode='binary')\n",
    "\n",
    "validation_generator = test_datagen.flow_from_directory(\n",
    "        validation_dir,\n",
    "        target_size=(150, 150),\n",
    "        batch_size=20,\n",
    "        class_mode='binary')\n"
   ]
  },
  {
   "cell_type": "code",
   "execution_count": 43,
   "id": "2f5b89c9",
   "metadata": {},
   "outputs": [
    {
     "name": "stdout",
     "output_type": "stream",
     "text": [
      "data batch shape: (20, 150, 150, 3)\n",
      "labels batch shape: (20,)\n",
      "labels batch : [0. 0. 1. 1. 0. 1. 1. 1. 0. 0. 1. 1. 1. 1. 0. 0. 0. 1. 1. 1.]\n"
     ]
    }
   ],
   "source": [
    "for data_batch, labels_batch in train_generator:\n",
    "    print('data batch shape:', data_batch.shape)\n",
    "    print('labels batch shape:', labels_batch.shape)\n",
    "    print('labels batch :', labels_batch)\n",
    "    \n",
    "    break"
   ]
  },
  {
   "cell_type": "code",
   "execution_count": 44,
   "id": "19669b6d",
   "metadata": {},
   "outputs": [
    {
     "name": "stdout",
     "output_type": "stream",
     "text": [
      "Epoch 1/30\n"
     ]
    },
    {
     "name": "stderr",
     "output_type": "stream",
     "text": [
      "C:\\Users\\MHS\\AppData\\Local\\Temp\\ipykernel_9072\\3259228942.py:1: UserWarning: `Model.fit_generator` is deprecated and will be removed in a future version. Please use `Model.fit`, which supports generators.\n",
      "  history = model.fit_generator(\n"
     ]
    },
    {
     "name": "stdout",
     "output_type": "stream",
     "text": [
      "100/100 [==============================] - 18s 117ms/step - loss: 0.6896 - acc: 0.5350 - val_loss: 0.6748 - val_acc: 0.5980\n",
      "Epoch 2/30\n",
      "100/100 [==============================] - 5s 49ms/step - loss: 0.6561 - acc: 0.6080 - val_loss: 0.6409 - val_acc: 0.6450\n",
      "Epoch 3/30\n",
      "100/100 [==============================] - 5s 50ms/step - loss: 0.6146 - acc: 0.6760 - val_loss: 0.6170 - val_acc: 0.6580\n",
      "Epoch 4/30\n",
      "100/100 [==============================] - 5s 50ms/step - loss: 0.5667 - acc: 0.7055 - val_loss: 0.6299 - val_acc: 0.6410\n",
      "Epoch 5/30\n",
      "100/100 [==============================] - 5s 51ms/step - loss: 0.5397 - acc: 0.7300 - val_loss: 0.5683 - val_acc: 0.7100\n",
      "Epoch 6/30\n",
      "100/100 [==============================] - 5s 50ms/step - loss: 0.5131 - acc: 0.7460 - val_loss: 0.5572 - val_acc: 0.7050\n",
      "Epoch 7/30\n",
      "100/100 [==============================] - 5s 50ms/step - loss: 0.4767 - acc: 0.7640 - val_loss: 0.5608 - val_acc: 0.7010\n",
      "Epoch 8/30\n",
      "100/100 [==============================] - 5s 50ms/step - loss: 0.4621 - acc: 0.7730 - val_loss: 0.5421 - val_acc: 0.7140\n",
      "Epoch 9/30\n",
      "100/100 [==============================] - 5s 51ms/step - loss: 0.4283 - acc: 0.8055 - val_loss: 0.5571 - val_acc: 0.7200\n",
      "Epoch 10/30\n",
      "100/100 [==============================] - 5s 51ms/step - loss: 0.4134 - acc: 0.8080 - val_loss: 0.6326 - val_acc: 0.6960\n",
      "Epoch 11/30\n",
      "100/100 [==============================] - 5s 51ms/step - loss: 0.3821 - acc: 0.8240 - val_loss: 0.5881 - val_acc: 0.7190\n",
      "Epoch 12/30\n",
      "100/100 [==============================] - 5s 50ms/step - loss: 0.3618 - acc: 0.8400 - val_loss: 0.5806 - val_acc: 0.7280\n",
      "Epoch 13/30\n",
      "100/100 [==============================] - 5s 50ms/step - loss: 0.3395 - acc: 0.8570 - val_loss: 0.5596 - val_acc: 0.7330\n",
      "Epoch 14/30\n",
      "100/100 [==============================] - 5s 50ms/step - loss: 0.3117 - acc: 0.8685 - val_loss: 0.5729 - val_acc: 0.7410\n",
      "Epoch 15/30\n",
      "100/100 [==============================] - 5s 49ms/step - loss: 0.2885 - acc: 0.8835 - val_loss: 0.6068 - val_acc: 0.7190\n",
      "Epoch 16/30\n",
      "100/100 [==============================] - 5s 49ms/step - loss: 0.2695 - acc: 0.8905 - val_loss: 0.6066 - val_acc: 0.7290\n",
      "Epoch 17/30\n",
      "100/100 [==============================] - 5s 49ms/step - loss: 0.2509 - acc: 0.8985 - val_loss: 0.5759 - val_acc: 0.7390\n",
      "Epoch 18/30\n",
      "100/100 [==============================] - 5s 49ms/step - loss: 0.2264 - acc: 0.9165 - val_loss: 0.6776 - val_acc: 0.7180\n",
      "Epoch 19/30\n",
      "100/100 [==============================] - 5s 49ms/step - loss: 0.1985 - acc: 0.9235 - val_loss: 0.6488 - val_acc: 0.7250\n",
      "Epoch 20/30\n",
      "100/100 [==============================] - 5s 49ms/step - loss: 0.1760 - acc: 0.9375 - val_loss: 0.6914 - val_acc: 0.7290\n",
      "Epoch 21/30\n",
      "100/100 [==============================] - 5s 49ms/step - loss: 0.1583 - acc: 0.9455 - val_loss: 0.6894 - val_acc: 0.7380\n",
      "Epoch 22/30\n",
      "100/100 [==============================] - 5s 50ms/step - loss: 0.1349 - acc: 0.9575 - val_loss: 0.6753 - val_acc: 0.7350\n",
      "Epoch 23/30\n",
      "100/100 [==============================] - 5s 50ms/step - loss: 0.1156 - acc: 0.9620 - val_loss: 0.7977 - val_acc: 0.7150\n",
      "Epoch 24/30\n",
      "100/100 [==============================] - 5s 50ms/step - loss: 0.1063 - acc: 0.9650 - val_loss: 0.7681 - val_acc: 0.7340\n",
      "Epoch 25/30\n",
      "100/100 [==============================] - 5s 50ms/step - loss: 0.0913 - acc: 0.9700 - val_loss: 0.7808 - val_acc: 0.7370\n",
      "Epoch 26/30\n",
      "100/100 [==============================] - 5s 50ms/step - loss: 0.0782 - acc: 0.9780 - val_loss: 0.8261 - val_acc: 0.7320\n",
      "Epoch 27/30\n",
      "100/100 [==============================] - 5s 51ms/step - loss: 0.0610 - acc: 0.9880 - val_loss: 0.9080 - val_acc: 0.7330\n",
      "Epoch 28/30\n",
      "100/100 [==============================] - 5s 50ms/step - loss: 0.0562 - acc: 0.9875 - val_loss: 0.9318 - val_acc: 0.7250\n",
      "Epoch 29/30\n",
      "100/100 [==============================] - 5s 50ms/step - loss: 0.0475 - acc: 0.9890 - val_loss: 1.0835 - val_acc: 0.7260\n",
      "Epoch 30/30\n",
      "100/100 [==============================] - 5s 51ms/step - loss: 0.0428 - acc: 0.9900 - val_loss: 0.9777 - val_acc: 0.7310\n"
     ]
    }
   ],
   "source": [
    "history = model.fit_generator(\n",
    "      train_generator,\n",
    "      steps_per_epoch=100,\n",
    "      epochs=30,\n",
    "      validation_data=validation_generator,\n",
    "      validation_steps=50)"
   ]
  },
  {
   "cell_type": "code",
   "execution_count": 45,
   "id": "80281cd2",
   "metadata": {},
   "outputs": [
    {
     "data": {
      "image/png": "[encoded data removed]",
      "text/plain": [
       "<Figure size 432x288 with 1 Axes>"
      ]
     },
     "metadata": {
      "needs_background": "light"
     },
     "output_type": "display_data"
    },
    {
     "data": {
      "image/png": "[encoded data removed]",
      "text/plain": [
       "<Figure size 432x288 with 1 Axes>"
      ]
     },
     "metadata": {
      "needs_background": "light"
     },
     "output_type": "display_data"
    }
   ],
   "source": [
    "import matplotlib.pyplot as plt\n",
    "%matplotlib inline\n",
    "acc = history.history['acc']\n",
    "val_acc = history.history['val_acc']\n",
    "loss = history.history['loss']\n",
    "val_loss = history.history['val_loss']\n",
    "\n",
    "epochs = range(len(acc))\n",
    "\n",
    "plt.plot(epochs, acc, 'bo', label='Training acc')\n",
    "plt.plot(epochs, val_acc, 'b', label='Validation acc')\n",
    "plt.title('Training and validation accuracy')\n",
    "plt.legend()\n",
    "\n",
    "plt.figure()\n",
    "\n",
    "plt.plot(epochs, loss, 'bo', label='Training loss')\n",
    "plt.plot(epochs, val_loss, 'b', label='Validation loss')\n",
    "plt.title('Training and validation loss')\n",
    "plt.legend()\n",
    "\n",
    "plt.show()"
   ]
  },
  {
   "cell_type": "markdown",
   "id": "5f297dbe",
   "metadata": {},
   "source": [
    "## <div style=\"direction:rtl;text-align:right;font-family:B Lotus, B Nazanin, Tahoma\">شبکه با Dropout</div>"
   ]
  },
  {
   "cell_type": "code",
   "execution_count": 52,
   "id": "641fddd2",
   "metadata": {},
   "outputs": [
    {
     "name": "stdout",
     "output_type": "stream",
     "text": [
      "Epoch 1/100\n"
     ]
    },
    {
     "name": "stderr",
     "output_type": "stream",
     "text": [
      "C:\\Users\\MHS\\AppData\\Roaming\\Python\\Python39\\site-packages\\keras\\optimizers\\optimizer_v2\\rmsprop.py:135: UserWarning: The `lr` argument is deprecated, use `learning_rate` instead.\n",
      "  super(RMSprop, self).__init__(name, **kwargs)\n",
      "C:\\Users\\MHS\\AppData\\Local\\Temp\\ipykernel_9072\\666948056.py:20: UserWarning: `Model.fit_generator` is deprecated and will be removed in a future version. Please use `Model.fit`, which supports generators.\n",
      "  history = model.fit_generator(\n"
     ]
    },
    {
     "name": "stdout",
     "output_type": "stream",
     "text": [
      "100/100 [==============================] - 6s 51ms/step - loss: 0.6937 - acc: 0.5250 - val_loss: 0.6779 - val_acc: 0.5890\n",
      "Epoch 2/100\n",
      "100/100 [==============================] - 5s 52ms/step - loss: 0.6722 - acc: 0.5815 - val_loss: 0.6694 - val_acc: 0.5430\n",
      "Epoch 3/100\n",
      "100/100 [==============================] - 5s 50ms/step - loss: 0.6425 - acc: 0.6125 - val_loss: 0.6745 - val_acc: 0.5600\n",
      "Epoch 4/100\n",
      "100/100 [==============================] - 5s 49ms/step - loss: 0.5992 - acc: 0.6690 - val_loss: 0.6163 - val_acc: 0.6520\n",
      "Epoch 5/100\n",
      "100/100 [==============================] - 5s 51ms/step - loss: 0.5711 - acc: 0.6965 - val_loss: 0.6025 - val_acc: 0.6690\n",
      "Epoch 6/100\n",
      "100/100 [==============================] - 5s 51ms/step - loss: 0.5573 - acc: 0.7050 - val_loss: 0.6345 - val_acc: 0.6490\n",
      "Epoch 7/100\n",
      "100/100 [==============================] - 5s 52ms/step - loss: 0.5293 - acc: 0.7255 - val_loss: 0.5876 - val_acc: 0.6820\n",
      "Epoch 8/100\n",
      "100/100 [==============================] - 5s 52ms/step - loss: 0.5093 - acc: 0.7515 - val_loss: 0.5852 - val_acc: 0.6940\n",
      "Epoch 9/100\n",
      "100/100 [==============================] - 5s 52ms/step - loss: 0.4984 - acc: 0.7505 - val_loss: 0.6167 - val_acc: 0.6780\n",
      "Epoch 10/100\n",
      "100/100 [==============================] - 5s 52ms/step - loss: 0.4768 - acc: 0.7600 - val_loss: 0.5649 - val_acc: 0.7000\n",
      "Epoch 11/100\n",
      "100/100 [==============================] - 5s 53ms/step - loss: 0.4568 - acc: 0.7885 - val_loss: 0.6042 - val_acc: 0.7060\n",
      "Epoch 12/100\n",
      "100/100 [==============================] - 5s 52ms/step - loss: 0.4404 - acc: 0.7955 - val_loss: 0.5451 - val_acc: 0.7210\n",
      "Epoch 13/100\n",
      "100/100 [==============================] - 5s 51ms/step - loss: 0.4152 - acc: 0.8035 - val_loss: 0.5403 - val_acc: 0.7150\n",
      "Epoch 14/100\n",
      "100/100 [==============================] - 5s 50ms/step - loss: 0.4072 - acc: 0.8200 - val_loss: 0.5467 - val_acc: 0.7270\n",
      "Epoch 15/100\n",
      "100/100 [==============================] - 5s 51ms/step - loss: 0.3928 - acc: 0.8215 - val_loss: 0.6353 - val_acc: 0.7010\n",
      "Epoch 16/100\n",
      "100/100 [==============================] - 5s 51ms/step - loss: 0.3795 - acc: 0.8240 - val_loss: 0.5789 - val_acc: 0.7180\n",
      "Epoch 17/100\n",
      "100/100 [==============================] - 5s 55ms/step - loss: 0.3624 - acc: 0.8425 - val_loss: 0.5873 - val_acc: 0.7210\n",
      "Epoch 18/100\n",
      "100/100 [==============================] - 5s 51ms/step - loss: 0.3427 - acc: 0.8500 - val_loss: 0.6019 - val_acc: 0.7200\n",
      "Epoch 19/100\n",
      "100/100 [==============================] - 5s 54ms/step - loss: 0.3302 - acc: 0.8605 - val_loss: 0.5445 - val_acc: 0.7300\n",
      "Epoch 20/100\n",
      "100/100 [==============================] - 5s 49ms/step - loss: 0.3124 - acc: 0.8660 - val_loss: 0.5826 - val_acc: 0.7240\n",
      "Epoch 21/100\n",
      "100/100 [==============================] - 5s 50ms/step - loss: 0.2979 - acc: 0.8740 - val_loss: 0.6001 - val_acc: 0.7210\n",
      "Epoch 22/100\n",
      "100/100 [==============================] - 5s 51ms/step - loss: 0.2787 - acc: 0.8840 - val_loss: 0.5788 - val_acc: 0.7360\n",
      "Epoch 23/100\n",
      "100/100 [==============================] - 5s 52ms/step - loss: 0.2748 - acc: 0.8915 - val_loss: 0.5674 - val_acc: 0.7430\n",
      "Epoch 24/100\n",
      "100/100 [==============================] - 5s 50ms/step - loss: 0.2620 - acc: 0.8885 - val_loss: 0.5970 - val_acc: 0.7300\n",
      "Epoch 25/100\n",
      "100/100 [==============================] - 5s 51ms/step - loss: 0.2563 - acc: 0.8975 - val_loss: 0.6018 - val_acc: 0.7400\n",
      "Epoch 26/100\n",
      "100/100 [==============================] - 5s 49ms/step - loss: 0.2327 - acc: 0.9035 - val_loss: 0.5914 - val_acc: 0.7550\n",
      "Epoch 27/100\n",
      "100/100 [==============================] - 5s 50ms/step - loss: 0.2256 - acc: 0.9110 - val_loss: 0.5720 - val_acc: 0.7570\n",
      "Epoch 28/100\n",
      "100/100 [==============================] - 5s 50ms/step - loss: 0.2209 - acc: 0.9110 - val_loss: 0.6135 - val_acc: 0.7560\n",
      "Epoch 29/100\n",
      "100/100 [==============================] - 5s 50ms/step - loss: 0.2073 - acc: 0.9155 - val_loss: 0.6051 - val_acc: 0.7510\n",
      "Epoch 30/100\n",
      "100/100 [==============================] - 5s 50ms/step - loss: 0.1979 - acc: 0.9190 - val_loss: 0.6589 - val_acc: 0.7420\n",
      "Epoch 31/100\n",
      "100/100 [==============================] - 5s 50ms/step - loss: 0.1853 - acc: 0.9290 - val_loss: 0.6483 - val_acc: 0.7510\n",
      "Epoch 32/100\n",
      "100/100 [==============================] - 5s 49ms/step - loss: 0.1875 - acc: 0.9225 - val_loss: 0.5848 - val_acc: 0.7640\n",
      "Epoch 33/100\n",
      "100/100 [==============================] - 5s 49ms/step - loss: 0.1649 - acc: 0.9350 - val_loss: 0.6476 - val_acc: 0.7500\n",
      "Epoch 34/100\n",
      "100/100 [==============================] - 5s 49ms/step - loss: 0.1579 - acc: 0.9330 - val_loss: 0.6870 - val_acc: 0.7420\n",
      "Epoch 35/100\n",
      "100/100 [==============================] - 5s 49ms/step - loss: 0.1505 - acc: 0.9455 - val_loss: 0.6623 - val_acc: 0.7430\n",
      "Epoch 36/100\n",
      "100/100 [==============================] - 5s 49ms/step - loss: 0.1421 - acc: 0.9490 - val_loss: 0.6646 - val_acc: 0.7480\n",
      "Epoch 37/100\n",
      "100/100 [==============================] - 5s 49ms/step - loss: 0.1411 - acc: 0.9485 - val_loss: 0.6330 - val_acc: 0.7520\n",
      "Epoch 38/100\n",
      "100/100 [==============================] - 5s 50ms/step - loss: 0.1278 - acc: 0.9520 - val_loss: 0.6585 - val_acc: 0.7620\n",
      "Epoch 39/100\n",
      "100/100 [==============================] - 5s 49ms/step - loss: 0.1259 - acc: 0.9505 - val_loss: 0.7448 - val_acc: 0.7630\n",
      "Epoch 40/100\n",
      "100/100 [==============================] - 5s 49ms/step - loss: 0.1218 - acc: 0.9525 - val_loss: 0.6854 - val_acc: 0.7660\n",
      "Epoch 41/100\n",
      "100/100 [==============================] - 5s 49ms/step - loss: 0.1049 - acc: 0.9615 - val_loss: 0.7645 - val_acc: 0.7620\n",
      "Epoch 42/100\n",
      "100/100 [==============================] - 5s 49ms/step - loss: 0.1057 - acc: 0.9580 - val_loss: 0.7291 - val_acc: 0.7470\n",
      "Epoch 43/100\n",
      "100/100 [==============================] - 5s 49ms/step - loss: 0.1048 - acc: 0.9610 - val_loss: 0.7102 - val_acc: 0.7720\n",
      "Epoch 44/100\n",
      "100/100 [==============================] - 5s 49ms/step - loss: 0.0828 - acc: 0.9720 - val_loss: 0.7287 - val_acc: 0.7510\n",
      "Epoch 45/100\n",
      "100/100 [==============================] - 5s 49ms/step - loss: 0.0878 - acc: 0.9665 - val_loss: 0.7369 - val_acc: 0.7620\n",
      "Epoch 46/100\n",
      "100/100 [==============================] - 5s 49ms/step - loss: 0.0888 - acc: 0.9665 - val_loss: 0.8769 - val_acc: 0.7410\n",
      "Epoch 47/100\n",
      "100/100 [==============================] - 5s 50ms/step - loss: 0.0822 - acc: 0.9705 - val_loss: 0.8192 - val_acc: 0.7430\n",
      "Epoch 48/100\n",
      "100/100 [==============================] - 5s 50ms/step - loss: 0.0741 - acc: 0.9770 - val_loss: 0.7695 - val_acc: 0.7540\n",
      "Epoch 49/100\n",
      "100/100 [==============================] - 5s 50ms/step - loss: 0.0790 - acc: 0.9710 - val_loss: 0.7653 - val_acc: 0.7660\n",
      "Epoch 50/100\n",
      "100/100 [==============================] - 5s 50ms/step - loss: 0.0704 - acc: 0.9750 - val_loss: 0.8244 - val_acc: 0.7530\n",
      "Epoch 51/100\n",
      "100/100 [==============================] - 5s 50ms/step - loss: 0.0719 - acc: 0.9740 - val_loss: 0.8111 - val_acc: 0.7570\n",
      "Epoch 52/100\n",
      "100/100 [==============================] - 5s 49ms/step - loss: 0.0740 - acc: 0.9735 - val_loss: 0.7622 - val_acc: 0.7740\n",
      "Epoch 53/100\n",
      "100/100 [==============================] - 5s 50ms/step - loss: 0.0596 - acc: 0.9775 - val_loss: 0.8349 - val_acc: 0.7470\n",
      "Epoch 54/100\n",
      "100/100 [==============================] - 5s 49ms/step - loss: 0.0695 - acc: 0.9745 - val_loss: 0.8031 - val_acc: 0.7670\n",
      "Epoch 55/100\n",
      "100/100 [==============================] - 5s 50ms/step - loss: 0.0555 - acc: 0.9815 - val_loss: 0.8631 - val_acc: 0.7630\n",
      "Epoch 56/100\n",
      "100/100 [==============================] - 5s 50ms/step - loss: 0.0677 - acc: 0.9760 - val_loss: 0.8694 - val_acc: 0.7610\n",
      "Epoch 57/100\n",
      "100/100 [==============================] - 5s 50ms/step - loss: 0.0562 - acc: 0.9775 - val_loss: 0.8574 - val_acc: 0.7620\n",
      "Epoch 58/100\n",
      "100/100 [==============================] - 5s 49ms/step - loss: 0.0567 - acc: 0.9825 - val_loss: 1.0514 - val_acc: 0.7400\n",
      "Epoch 59/100\n",
      "100/100 [==============================] - 5s 49ms/step - loss: 0.0534 - acc: 0.9795 - val_loss: 0.9730 - val_acc: 0.7520\n",
      "Epoch 60/100\n",
      "100/100 [==============================] - 5s 49ms/step - loss: 0.0516 - acc: 0.9815 - val_loss: 0.8697 - val_acc: 0.7590\n",
      "Epoch 61/100\n",
      "100/100 [==============================] - 5s 51ms/step - loss: 0.0454 - acc: 0.9845 - val_loss: 0.9191 - val_acc: 0.7610\n"
     ]
    },
    {
     "name": "stdout",
     "output_type": "stream",
     "text": [
      "Epoch 62/100\n",
      "100/100 [==============================] - 5s 50ms/step - loss: 0.0530 - acc: 0.9815 - val_loss: 0.8962 - val_acc: 0.7690\n",
      "Epoch 63/100\n",
      "100/100 [==============================] - 5s 50ms/step - loss: 0.0574 - acc: 0.9805 - val_loss: 0.8858 - val_acc: 0.7690\n",
      "Epoch 64/100\n",
      "100/100 [==============================] - 5s 50ms/step - loss: 0.0462 - acc: 0.9830 - val_loss: 0.9071 - val_acc: 0.7740\n",
      "Epoch 65/100\n",
      "100/100 [==============================] - 5s 49ms/step - loss: 0.0389 - acc: 0.9890 - val_loss: 1.1153 - val_acc: 0.7430\n",
      "Epoch 66/100\n",
      "100/100 [==============================] - 5s 49ms/step - loss: 0.0447 - acc: 0.9840 - val_loss: 0.9408 - val_acc: 0.7640\n",
      "Epoch 67/100\n",
      "100/100 [==============================] - 5s 49ms/step - loss: 0.0414 - acc: 0.9870 - val_loss: 0.9007 - val_acc: 0.7680\n",
      "Epoch 68/100\n",
      "100/100 [==============================] - 5s 51ms/step - loss: 0.0346 - acc: 0.9905 - val_loss: 0.9966 - val_acc: 0.7660\n",
      "Epoch 69/100\n",
      "100/100 [==============================] - 5s 51ms/step - loss: 0.0428 - acc: 0.9855 - val_loss: 0.9905 - val_acc: 0.7660\n",
      "Epoch 70/100\n",
      "100/100 [==============================] - 5s 49ms/step - loss: 0.0489 - acc: 0.9865 - val_loss: 1.0942 - val_acc: 0.7630\n",
      "Epoch 71/100\n",
      "100/100 [==============================] - 5s 51ms/step - loss: 0.0418 - acc: 0.9835 - val_loss: 0.9734 - val_acc: 0.7780\n",
      "Epoch 72/100\n",
      "100/100 [==============================] - 5s 53ms/step - loss: 0.0338 - acc: 0.9915 - val_loss: 1.0475 - val_acc: 0.7570\n",
      "Epoch 73/100\n",
      "100/100 [==============================] - 5s 54ms/step - loss: 0.0478 - acc: 0.9830 - val_loss: 0.9827 - val_acc: 0.7600\n",
      "Epoch 74/100\n",
      "100/100 [==============================] - 5s 51ms/step - loss: 0.0329 - acc: 0.9890 - val_loss: 1.0809 - val_acc: 0.7590\n",
      "Epoch 75/100\n",
      "100/100 [==============================] - 5s 50ms/step - loss: 0.0399 - acc: 0.9875 - val_loss: 1.0172 - val_acc: 0.7700\n",
      "Epoch 76/100\n",
      "100/100 [==============================] - 5s 51ms/step - loss: 0.0428 - acc: 0.9825 - val_loss: 1.0021 - val_acc: 0.7720\n",
      "Epoch 77/100\n",
      "100/100 [==============================] - 5s 50ms/step - loss: 0.0361 - acc: 0.9855 - val_loss: 1.0266 - val_acc: 0.7570\n",
      "Epoch 78/100\n",
      "100/100 [==============================] - 5s 51ms/step - loss: 0.0359 - acc: 0.9885 - val_loss: 1.0444 - val_acc: 0.7690\n",
      "Epoch 79/100\n",
      "100/100 [==============================] - 5s 53ms/step - loss: 0.0366 - acc: 0.9890 - val_loss: 1.0983 - val_acc: 0.7630\n",
      "Epoch 80/100\n",
      "100/100 [==============================] - 5s 54ms/step - loss: 0.0298 - acc: 0.9880 - val_loss: 1.1579 - val_acc: 0.7630\n",
      "Epoch 81/100\n",
      "100/100 [==============================] - 5s 53ms/step - loss: 0.0372 - acc: 0.9860 - val_loss: 1.1014 - val_acc: 0.7700\n",
      "Epoch 82/100\n",
      "100/100 [==============================] - 5s 52ms/step - loss: 0.0466 - acc: 0.9840 - val_loss: 1.0687 - val_acc: 0.7730\n",
      "Epoch 83/100\n",
      "100/100 [==============================] - 5s 53ms/step - loss: 0.0258 - acc: 0.9910 - val_loss: 1.0313 - val_acc: 0.7730\n",
      "Epoch 84/100\n",
      "100/100 [==============================] - 5s 54ms/step - loss: 0.0255 - acc: 0.9915 - val_loss: 1.1186 - val_acc: 0.7650\n",
      "Epoch 85/100\n",
      "100/100 [==============================] - 5s 52ms/step - loss: 0.0351 - acc: 0.9885 - val_loss: 1.0511 - val_acc: 0.7710\n",
      "Epoch 86/100\n",
      "100/100 [==============================] - 5s 52ms/step - loss: 0.0306 - acc: 0.9895 - val_loss: 1.1136 - val_acc: 0.7770\n",
      "Epoch 87/100\n",
      "100/100 [==============================] - 5s 51ms/step - loss: 0.0382 - acc: 0.9880 - val_loss: 1.2735 - val_acc: 0.7470\n",
      "Epoch 88/100\n",
      "100/100 [==============================] - 5s 51ms/step - loss: 0.0404 - acc: 0.9880 - val_loss: 1.1272 - val_acc: 0.7600\n",
      "Epoch 89/100\n",
      "100/100 [==============================] - 5s 51ms/step - loss: 0.0328 - acc: 0.9860 - val_loss: 1.1614 - val_acc: 0.7620\n",
      "Epoch 90/100\n",
      "100/100 [==============================] - 5s 54ms/step - loss: 0.0400 - acc: 0.9850 - val_loss: 1.0850 - val_acc: 0.7700\n",
      "Epoch 91/100\n",
      "100/100 [==============================] - 6s 62ms/step - loss: 0.0194 - acc: 0.9945 - val_loss: 1.2050 - val_acc: 0.7550\n",
      "Epoch 92/100\n",
      "100/100 [==============================] - 6s 55ms/step - loss: 0.0188 - acc: 0.9940 - val_loss: 1.1763 - val_acc: 0.7650\n",
      "Epoch 93/100\n",
      "100/100 [==============================] - 5s 49ms/step - loss: 0.0336 - acc: 0.9880 - val_loss: 1.1245 - val_acc: 0.7620\n",
      "Epoch 94/100\n",
      "100/100 [==============================] - 5s 50ms/step - loss: 0.0209 - acc: 0.9925 - val_loss: 1.2292 - val_acc: 0.7560\n",
      "Epoch 95/100\n",
      "100/100 [==============================] - 5s 49ms/step - loss: 0.0319 - acc: 0.9885 - val_loss: 1.1506 - val_acc: 0.7640\n",
      "Epoch 96/100\n",
      "100/100 [==============================] - 5s 48ms/step - loss: 0.0442 - acc: 0.9855 - val_loss: 1.3114 - val_acc: 0.7510\n",
      "Epoch 97/100\n",
      "100/100 [==============================] - 5s 49ms/step - loss: 0.0304 - acc: 0.9895 - val_loss: 1.2513 - val_acc: 0.7700\n",
      "Epoch 98/100\n",
      "100/100 [==============================] - 5s 48ms/step - loss: 0.0236 - acc: 0.9915 - val_loss: 1.1333 - val_acc: 0.7650\n",
      "Epoch 99/100\n",
      "100/100 [==============================] - 5s 48ms/step - loss: 0.0159 - acc: 0.9935 - val_loss: 1.1804 - val_acc: 0.7720\n",
      "Epoch 100/100\n",
      "100/100 [==============================] - 5s 49ms/step - loss: 0.0178 - acc: 0.9950 - val_loss: 1.1756 - val_acc: 0.7620\n"
     ]
    }
   ],
   "source": [
    "model = models.Sequential()\n",
    "model.add(layers.Conv2D(32, (3, 3), activation='relu',\n",
    "                        input_shape=(150, 150, 3)))\n",
    "model.add(layers.MaxPooling2D((2, 2)))\n",
    "model.add(layers.Conv2D(64, (3, 3), activation='relu'))\n",
    "model.add(layers.MaxPooling2D((2, 2)))\n",
    "model.add(layers.Conv2D(128, (3, 3), activation='relu'))\n",
    "model.add(layers.MaxPooling2D((2, 2)))\n",
    "model.add(layers.Conv2D(128, (3, 3), activation='relu'))\n",
    "model.add(layers.MaxPooling2D((2, 2)))\n",
    "model.add(layers.Flatten())\n",
    "model.add(layers.Dropout(0.5))\n",
    "model.add(layers.Dense(512, activation='relu'))\n",
    "model.add(layers.Dense(1, activation='sigmoid'))\n",
    "\n",
    "model.compile(loss='binary_crossentropy',\n",
    "              optimizer=optimizers.RMSprop(lr=1e-4),\n",
    "              metrics=['acc'])\n",
    "\n",
    "history = model.fit_generator(\n",
    "      train_generator,\n",
    "      steps_per_epoch=100,\n",
    "      epochs=100,\n",
    "      validation_data=validation_generator,\n",
    "      validation_steps=50)"
   ]
  },
  {
   "cell_type": "code",
   "execution_count": 54,
   "id": "55fd610b",
   "metadata": {},
   "outputs": [
    {
     "data": {
      "image/png": "[encoded data removed]",
      "text/plain": [
       "<Figure size 432x288 with 1 Axes>"
      ]
     },
     "metadata": {
      "needs_background": "light"
     },
     "output_type": "display_data"
    },
    {
     "data": {
      "image/png": "[encoded data removed]",
      "text/plain": [
       "<Figure size 432x288 with 1 Axes>"
      ]
     },
     "metadata": {
      "needs_background": "light"
     },
     "output_type": "display_data"
    }
   ],
   "source": [
    "acc = history.history['acc']\n",
    "val_acc = history.history['val_acc']\n",
    "loss = history.history['loss']\n",
    "val_loss = history.history['val_loss']\n",
    "\n",
    "epochs = range(len(acc))\n",
    "\n",
    "plt.plot(epochs, acc, 'bo', label='Training acc')\n",
    "plt.plot(epochs, val_acc, 'b', label='Validation acc')\n",
    "plt.title('Training and validation accuracy')\n",
    "plt.legend()\n",
    "\n",
    "plt.figure()\n",
    "\n",
    "plt.plot(epochs, loss, 'bo', label='Training loss')\n",
    "plt.plot(epochs, val_loss, 'b', label='Validation loss')\n",
    "plt.title('Training and validation loss')\n",
    "plt.legend()\n",
    "\n",
    "plt.show()"
   ]
  },
  {
   "cell_type": "markdown",
   "id": "b3bc5575",
   "metadata": {},
   "source": [
    "## <div style=\"direction:rtl;text-align:right;font-family:B Lotus, B Nazanin, Tahoma\">ذخیره کردن مدل</div>\n"
   ]
  },
  {
   "cell_type": "code",
   "execution_count": 55,
   "id": "9497c638",
   "metadata": {},
   "outputs": [],
   "source": [
    "model.save('cats_and_dogs_small_1.h5')"
   ]
  },
  {
   "cell_type": "code",
   "execution_count": null,
   "id": "90435897",
   "metadata": {},
   "outputs": [],
   "source": []
  }
 ],
 "metadata": {
  "kernelspec": {
   "display_name": "Python 3 (ipykernel)",
   "language": "python",
   "name": "python3"
  },
  "language_info": {
   "codemirror_mode": {
    "name": "ipython",
    "version": 3
   },
   "file_extension": ".py",
   "mimetype": "text/x-python",
   "name": "python",
   "nbconvert_exporter": "python",
   "pygments_lexer": "ipython3",
   "version": "3.9.12"
  }
 },
 "nbformat": 4,
 "nbformat_minor": 5
}
